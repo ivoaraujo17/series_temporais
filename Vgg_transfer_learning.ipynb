{
  "cells": [
    {
      "cell_type": "code",
      "execution_count": 3,
      "metadata": {
        "id": "feDr4g3z6kuP"
      },
      "outputs": [
        {
          "ename": "",
          "evalue": "",
          "output_type": "error",
          "traceback": [
            "\u001b[1;31mO Kernel deu pane ao executar o código na célula atual ou em uma célula anterior. \n",
            "\u001b[1;31mAnalise o código nas células para identificar uma possível causa da pane. \n",
            "\u001b[1;31mClique <a href='https://aka.ms/vscodeJupyterKernelCrash'>aqui</a> para obter mais informações. \n",
            "\u001b[1;31mConsulte Jupyter <a href='command:jupyter.viewOutput'>log</a> para obter mais detalhes."
          ]
        }
      ],
      "source": [
        "# Passo 1: Importar bibliotecas necessárias\n",
        "import numpy as np\n",
        "import pandas as pd\n",
        "\n",
        "from matplotlib import pyplot as plt\n",
        "from keras.models import Sequential\n",
        "from keras.layers import Dense\n",
        "from keras.layers import Flatten\n",
        "from keras.layers import Dropout\n",
        "from keras.layers import Conv2D\n",
        "from keras.layers import MaxPooling2D\n",
        "from keras import optimizers\n",
        "from sklearn import model_selection\n",
        "from keras.callbacks import EarlyStopping\n",
        "from sklearn.metrics import classification_report\n",
        "from sklearn.metrics import confusion_matrix\n",
        "import keras\n",
        "from tensorflow.keras import regularizers\n",
        "# importando o ImageDataGenerator\n",
        "from tensorflow.keras.preprocessing.image import ImageDataGenerator\n",
        "from tensorflow.keras.initializers import HeNormal, HeUniform\n",
        "from keras.callbacks import ModelCheckpoint\n",
        "from keras.models import load_model\n",
        "import tensorflow as tf\n",
        "import cv2\n"
      ]
    },
    {
      "cell_type": "code",
      "execution_count": 4,
      "metadata": {
        "id": "56fKBupq8Cew"
      },
      "outputs": [
        {
          "name": "stdout",
          "output_type": "stream",
          "text": [
            "Downloading data from https://www.cs.toronto.edu/~kriz/cifar-10-python.tar.gz\n",
            "\u001b[1m170498071/170498071\u001b[0m \u001b[32m━━━━━━━━━━━━━━━━━━━━\u001b[0m\u001b[37m\u001b[0m \u001b[1m10s\u001b[0m 0us/step\n"
          ]
        }
      ],
      "source": [
        "# Passo 2: Carregar o dataset CIFAR-10\n",
        "(X_train, Y_train), (X_test, Y_test) = tf.keras.datasets.cifar10.load_data()\n",
        "\n",
        "\n",
        "# Passo 3: Função para redimensionar as imagens usando OpenCV (cv2)\n",
        "def resize_with_cv2(images, new_size):\n",
        "    resized_images = []\n",
        "    for img in images:\n",
        "        resized_img = cv2.resize(img, new_size)\n",
        "        resized_images.append(resized_img)\n",
        "    return np.array(resized_images)\n",
        "\n",
        "# Passando os dados para float32\n",
        "X_train = X_train.astype('float32')\n",
        "X_test = X_test.astype('float32')\n",
        "# Dividindo os dados por 255.0 para normalizar\n",
        "X_train = X_train / 255.0\n",
        "\n",
        "# Transformando os labels em one-hot-encoding\n",
        "Y_train_one_hot = keras.utils.to_categorical(Y_train, 10)\n",
        "Y_test_one_hot = keras.utils.to_categorical(Y_test, 10)\n",
        "\n",
        "# Passo 4: Redimensionar as imagens para 224x224x3\n",
        "new_size = (224, 224)\n",
        "X_train_resized = resize_with_cv2(X_train, new_size)\n",
        "X_test_resized = resize_with_cv2(X_test, new_size)"
      ]
    },
    {
      "cell_type": "code",
      "execution_count": null,
      "metadata": {
        "id": "-SQLJ4Km8l9W"
      },
      "outputs": [],
      "source": [
        "BATCH_SIZE = 32\n",
        "RANDOM_STATE = 42"
      ]
    },
    {
      "cell_type": "code",
      "execution_count": null,
      "metadata": {
        "id": "o30e900N6nOY"
      },
      "outputs": [],
      "source": [
        "from tensorflow.keras.applications import VGG16\n",
        "\n",
        "# Carregar o modelo VGG16 pré-treinado no ImageNet\n",
        "base_model = VGG16(weights=\"imagenet\", include_top=False, input_shape=(224, 224, 3))\n",
        "\n",
        "# Visualizar a arquitetura\n",
        "base_model.summary()\n",
        "\n",
        "# Congelar as camadas convolucionais\n",
        "base_model.trainable = False\n",
        "\n",
        "# Criando o modelo completo\n",
        "model = Sequential()\n",
        "model.add(base_model)\n",
        "model.add(Flatten())\n",
        "model.add(Dense(units=128, activation='relu'))\n",
        "\n",
        "model.add(Dense(units=10, activation='softmax'))\n",
        "\n",
        "# Criando checkpoints\n",
        "mc = ModelCheckpoint('best_model2.keras', monitor='val_accuracy', mode='max', verbose=1, save_best_only=True)\n",
        "# Compilando o modelo\n",
        "model.compile(loss='categorical_crossentropy', optimizer=optimizers.Adam(learning_rate=0.001), metrics=['accuracy'])"
      ]
    },
    {
      "cell_type": "code",
      "execution_count": null,
      "metadata": {
        "id": "CefOnK5R8U7D"
      },
      "outputs": [],
      "source": [
        "history = model.fit(X_train, Y_train_one_hot, epochs=10, batch_size=BATCH_SIZE, validation_data=(X_test, Y_test_one_hot), verbose=1, callbacks=[mc])"
      ]
    },
    {
      "cell_type": "code",
      "execution_count": null,
      "metadata": {
        "id": "w5f7vREH8a4x"
      },
      "outputs": [],
      "source": [
        "model = load_model('best_model2.keras')"
      ]
    },
    {
      "cell_type": "code",
      "execution_count": null,
      "metadata": {
        "id": "td1hvxbf8doS"
      },
      "outputs": [],
      "source": [
        "# Calculando a acuracia\n",
        "_, accuracy_train = model.evaluate(X_train, Y_train_one_hot, batch_size=BATCH_SIZE, verbose=0)\n",
        "_, accuracy_val = model.evaluate(X_test, Y_test_one_hot, batch_size=BATCH_SIZE, verbose=0)\n",
        "\n",
        "# Plotando os resultados\n",
        "plt.plot(history.history['loss'])\n",
        "plt.plot(history.history['val_loss'])\n",
        "plt.title('Metrica de erro')\n",
        "plt.ylabel('Erro')\n",
        "plt.xlabel('Epoca')\n",
        "plt.legend(['Treinamento', 'Validacao'])\n",
        "\n",
        "\n",
        "print(f'--> Acuracia (treino): {accuracy_train:.4f}')\n",
        "print(f'--> Acuracia (validacao): {accuracy_val:.4f}')\n",
        "print(f\"--> Ein - Eval = {accuracy_train - accuracy_val:.4f}\")\n",
        "print(f\"--> val_loss - train_loss = {(history.history['val_loss'][-1] - history.history['loss'][-1]):.4f}\\n\")"
      ]
    },
    {
      "cell_type": "code",
      "execution_count": null,
      "metadata": {
        "id": "ZmJWaXtH8gcP"
      },
      "outputs": [],
      "source": [
        "# Predição\n",
        "Y_pred_train = np.round(model.predict(X_train))\n",
        "print('Classification Report (treino):')\n",
        "print(classification_report(Y_train_one_hot, Y_pred_train))\n",
        "\n",
        "# Pegando a posição do maior valor\n",
        "Y_pred_train = np.argmax(Y_pred_train, axis=1)\n",
        "\n",
        "matriz_confusao = confusion_matrix(Y_train, Y_pred_train)\n",
        "plt.imshow(matriz_confusao, cmap='Oranges')\n",
        "plt.title('Matriz de confusão (treino)')\n",
        "plt.colorbar()\n",
        "tick_marks = np.arange(len(nomes_classes))\n",
        "\n",
        "plt.xticks(tick_marks, nomes_classes, rotation=45)\n",
        "plt.yticks(tick_marks, nomes_classes)\n",
        "plt.ylabel('Classe verdadeira')\n",
        "plt.xlabel('Classe prevista')\n",
        "# Adicionando os valores numéricos dentro das células\n",
        "for i in range(matriz_confusao.shape[0]):\n",
        "    for j in range(matriz_confusao.shape[1]):\n",
        "        plt.text(j, i, str(matriz_confusao[i, j]), horizontalalignment=\"center\", color=\"black\") # Adiciona o valor da célula\n",
        "plt.show()"
      ]
    },
    {
      "cell_type": "code",
      "execution_count": null,
      "metadata": {
        "id": "P8G99HJJ8jA0"
      },
      "outputs": [],
      "source": [
        "# Predição\n",
        "Y_pred_test = np.round(model.predict(X_test))\n",
        "Y_test_one_hot = keras.utils.to_categorical(Y_test, 10)\n",
        "print('Classification Report (teste):')\n",
        "print(classification_report(Y_test_one_hot, Y_pred_test))\n",
        "\n",
        "# Pegando a posição do maior valor\n",
        "Y_pred_test = np.argmax(Y_pred_test, axis=1)\n",
        "\n",
        "matriz_confusao = confusion_matrix(Y_test, Y_pred_test)\n",
        "plt.imshow(matriz_confusao, cmap='Oranges')\n",
        "plt.title('Matriz de confusão (teste)')\n",
        "plt.colorbar()\n",
        "tick_marks = np.arange(len(nomes_classes))\n",
        "\n",
        "plt.xticks(tick_marks, nomes_classes, rotation=45)\n",
        "plt.yticks(tick_marks, nomes_classes)\n",
        "plt.ylabel('Classe verdadeira')\n",
        "plt.xlabel('Classe prevista')\n",
        "# Adicionando os valores numéricos dentro das células\n",
        "for i in range(matriz_confusao.shape[0]):\n",
        "    for j in range(matriz_confusao.shape[1]):\n",
        "        plt.text(j, i, str(matriz_confusao[i, j]), horizontalalignment=\"center\", color=\"black\") # Adiciona o valor da célula\n",
        "plt.show()"
      ]
    }
  ],
  "metadata": {
    "colab": {
      "provenance": []
    },
    "kernelspec": {
      "display_name": "Python 3",
      "name": "python3"
    },
    "language_info": {
      "codemirror_mode": {
        "name": "ipython",
        "version": 3
      },
      "file_extension": ".py",
      "mimetype": "text/x-python",
      "name": "python",
      "nbconvert_exporter": "python",
      "pygments_lexer": "ipython3",
      "version": "3.9.6"
    }
  },
  "nbformat": 4,
  "nbformat_minor": 0
}
